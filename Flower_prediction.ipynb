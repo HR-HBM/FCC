{
  "nbformat": 4,
  "nbformat_minor": 0,
  "metadata": {
    "colab": {
      "provenance": [],
      "authorship_tag": "ABX9TyOyLvMKWzcEEyr+bRwfouIJ",
      "include_colab_link": true
    },
    "kernelspec": {
      "name": "python3",
      "display_name": "Python 3"
    },
    "language_info": {
      "name": "python"
    }
  },
  "cells": [
    {
      "cell_type": "markdown",
      "metadata": {
        "id": "view-in-github",
        "colab_type": "text"
      },
      "source": [
        "<a href=\"https://colab.research.google.com/github/HR-HBM/FCC/blob/main/Flower_prediction.ipynb\" target=\"_parent\"><img src=\"https://colab.research.google.com/assets/colab-badge.svg\" alt=\"Open In Colab\"/></a>"
      ]
    },
    {
      "cell_type": "code",
      "source": [
        "import numpy as np\n",
        "import tensorflow as tf\n",
        "from tensorflow.keras.preprocessing.image import ImageDataGenerator\n",
        "from tensorflow.keras.preprocessing import image"
      ],
      "metadata": {
        "id": "n2VQ34DDvzJn"
      },
      "execution_count": 3,
      "outputs": []
    },
    {
      "cell_type": "code",
      "execution_count": 4,
      "metadata": {
        "colab": {
          "base_uri": "https://localhost:8080/"
        },
        "id": "6mnFHQ1RvY2h",
        "outputId": "c093f6eb-752e-4a74-ad39-4e954f1a499d"
      },
      "outputs": [
        {
          "output_type": "stream",
          "name": "stdout",
          "text": [
            "Mounted at /content/drive\n"
          ]
        }
      ],
      "source": [
        "from google.colab import drive\n",
        "drive.mount('/content/drive')"
      ]
    },
    {
      "cell_type": "code",
      "source": [
        "flower_categories = ['daisy', 'dandelion', 'rose', 'sunflower', 'tulip']"
      ],
      "metadata": {
        "id": "dz7s6kslwG5H"
      },
      "execution_count": 5,
      "outputs": []
    },
    {
      "cell_type": "code",
      "source": [
        "model = tf.keras.models.load_model('/content/drive/MyDrive/flower images/flowers.h5')\n",
        "img_path = \"/content/drive/MyDrive/flower images/google images/danelion3.jpeg\"\n",
        "test_image = image.load_img(img_path, target_size=(224,224))\n",
        "\n",
        "test_image = image.img_to_array(test_image)\n",
        "test_image = np.expand_dims(test_image, axis=0)\n",
        "\n",
        "result = model.predict(test_image)\n",
        "print(result)\n",
        "\n",
        "if result[0][0] == 1:\n",
        "  print(\"***The flower is a daisy\")\n",
        "elif result[0][1] == 1:\n",
        "  print(\"***The flower is a dandelion\")\n",
        "elif result[0][2] == 1:\n",
        "  print(\"***The flower is a rose\")\n",
        "elif result[0][3] == 1:\n",
        "  print(\"***The flower is a sunflower\")\n",
        "elif result[0][4] == 1:\n",
        "  print(\"***The flower is a tulip\")\n",
        "\n",
        "\n",
        "\n"
      ],
      "metadata": {
        "colab": {
          "base_uri": "https://localhost:8080/"
        },
        "id": "OvFcbrSdwWig",
        "outputId": "77aa98dc-f1ea-46ed-ea26-1925f6e6a4e2"
      },
      "execution_count": 19,
      "outputs": [
        {
          "output_type": "stream",
          "name": "stderr",
          "text": [
            "WARNING:absl:Compiled the loaded model, but the compiled metrics have yet to be built. `model.compile_metrics` will be empty until you train or evaluate the model.\n"
          ]
        },
        {
          "output_type": "stream",
          "name": "stdout",
          "text": [
            "\u001b[1m1/1\u001b[0m \u001b[32m━━━━━━━━━━━━━━━━━━━━\u001b[0m\u001b[37m\u001b[0m \u001b[1m0s\u001b[0m 156ms/step\n",
            "[[7.599795e-09 1.000000e+00 0.000000e+00 4.072419e-20 6.678164e-35]]\n",
            "***The flower is a dandelion\n"
          ]
        }
      ]
    },
    {
      "cell_type": "code",
      "source": [],
      "metadata": {
        "id": "Wbmfkm_7014R"
      },
      "execution_count": null,
      "outputs": []
    }
  ]
}